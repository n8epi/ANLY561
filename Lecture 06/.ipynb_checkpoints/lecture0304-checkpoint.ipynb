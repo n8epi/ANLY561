{
 "cells": [
  {
   "cell_type": "markdown",
   "metadata": {
    "collapsed": true
   },
   "source": [
    "# Part IX: Support Vector Machines and Duality\n",
    "\n",
    "Support Vector Machines (SVMs) are an excellent tool for classification that also allow us to get a deep example of convex optimization. To motivate SVMs, we consider the problem of separating two sets of data using a line."
   ]
  },
  {
   "cell_type": "code",
   "execution_count": 16,
   "metadata": {},
   "outputs": [
    {
     "data": {
      "image/png": "[encoded data removed]",
      "text/plain": [
       "<matplotlib.figure.Figure at 0x109993a20>"
      ]
     },
     "metadata": {},
     "output_type": "display_data"
    }
   ],
   "source": [
    "import numpy as np\n",
    "import numpy.random as rd\n",
    "import matplotlib.pyplot as plt\n",
    "\n",
    "def random_circle(N):\n",
    "    x = np.reshape(rd.randn(N*2), (N, 2))\n",
    "    for i in range(N):\n",
    "        x[i,:] = x[i,:]/np.sqrt(np.sum(x[i,:]**2))\n",
    "    return x\n",
    "\n",
    "def random_radius(N, R=1):\n",
    "    r = rd.rand(N)\n",
    "    return R*np.sqrt(r) # This ensures uniform sampling from the disc\n",
    "    \n",
    "\n",
    "def random_disc(N, mu=[0,0], R=1):\n",
    "    x = random_circle(N)\n",
    "    r = random_radius(N, R=R)\n",
    "    for i in range(N):\n",
    "        x[i, :] = r[i] * x[i, :] + mu\n",
    "    return x\n",
    "\n",
    "N = 10\n",
    "\n",
    "X = random_disc(N, mu=[-2, -2])\n",
    "Y = random_disc(N, mu=[2, 2])\n",
    "\n",
    "plt.scatter(X[:,0], X[:,1])\n",
    "plt.scatter(Y[:,0], Y[:,1])\n",
    "plt.plot([-4, 4], [0, 0])\n",
    "plt.xlabel('x')\n",
    "plt.ylabel('y')\n",
    "plt.axis('equal')\n",
    "plt.show()\n",
    "    "
   ]
  },
  {
   "cell_type": "markdown",
   "metadata": {
    "collapsed": true
   },
   "source": [
    "The above code produces two types of data: \"blue\" data drawn uniformly from a disc of radius one centered at $(-2,-2)$, and \"orange\" data drawn uniformly from a disc of radius one centered at $(2,2)$. We'll associate the \"blue\" data with the label $-1$ and the orange data with the label $+1$. We see that we can easily separate this data using the following rule: if $y<0$, then the label should be $-1$, and if $0<y$ then the label should be $+1$. However, we could have just as well separated the data using the rule that $x+y<0.5$ gives the label $-1$ and $0.5<x+y$ gives the label $+1$."
   ]
  },
  {
   "cell_type": "code",
   "execution_count": 17,
   "metadata": {},
   "outputs": [
    {
     "data": {
      "image/png": "[encoded data removed]",
      "text/plain": [
       "<matplotlib.figure.Figure at 0x109899ef0>"
      ]
     },
     "metadata": {},
     "output_type": "display_data"
    }
   ],
   "source": [
    "plt.scatter(X[:,0], X[:,1])\n",
    "plt.scatter(Y[:,0], Y[:,1])\n",
    "plt.plot([-4, 4], [4.5, -3.5])\n",
    "plt.xlabel('x')\n",
    "plt.ylabel('y')\n",
    "plt.axis('equal')\n",
    "plt.show()"
   ]
  },
  {
   "cell_type": "markdown",
   "metadata": {},
   "source": [
    "We note that both these rules have the form $ax+by+c<0$ implies the label $-1$ and $ax+by+c>0$ implies the label $+1$ for some $a, b, c\\in\\mathbb{R}$. Now, let's try to make our decision rule more *robust*. Let's demand that $ax+by+c\\leq-1$ for data labeled with $-1$'s and $ax+by+c\\geq +1$ for data labeled with $+1$'s. We see that $y\\leq -1$ and $y\\geq 1$ become the new rules for the first separating line."
   ]
  },
  {
   "cell_type": "code",
   "execution_count": 18,
   "metadata": {},
   "outputs": [
    {
     "data": {
      "image/png": "[encoded data removed]",
      "text/plain": [
       "<matplotlib.figure.Figure at 0x1098e1278>"
      ]
     },
     "metadata": {},
     "output_type": "display_data"
    }
   ],
   "source": [
    "plt.scatter(X[:,0], X[:,1])\n",
    "plt.scatter(Y[:,0], Y[:,1])\n",
    "plt.plot([-4, 4], [0, 0])\n",
    "plt.plot([-4, 4], [1, 1], '--')\n",
    "plt.plot([-4, 4], [-1, -1], '--')\n",
    "plt.xlabel('x')\n",
    "plt.ylabel('y')\n",
    "plt.axis('equal')\n",
    "plt.show()"
   ]
  },
  {
   "cell_type": "markdown",
   "metadata": {},
   "source": [
    "For the second separating line, we have $x+y-1/2\\leq-1$ "
   ]
  },
  {
   "cell_type": "code",
   "execution_count": 19,
   "metadata": {},
   "outputs": [
    {
     "data": {
      "image/png": "[encoded data removed]",
      "text/plain": [
       "<matplotlib.figure.Figure at 0x10cff3cc0>"
      ]
     },
     "metadata": {},
     "output_type": "display_data"
    }
   ],
   "source": [
    "plt.scatter(X[:,0], X[:,1])\n",
    "plt.scatter(Y[:,0], Y[:,1])\n",
    "plt.plot([-4, 4], [4.5, -3.5])\n",
    "plt.plot([-4, 4], [5.5, -2.5], '--')\n",
    "plt.plot([-4, 4], [3.5, -4.5], '--')\n",
    "plt.xlabel('x')\n",
    "plt.ylabel('y')\n",
    "plt.axis('equal')\n",
    "plt.show()"
   ]
  },
  {
   "cell_type": "markdown",
   "metadata": {},
   "source": [
    "Note how the distance between the gap between the cutoff lines (the orange and green dashed lines) is larger for the first separating line and smaller for the second separating line. Let's compute the width of this gap, which is also known as the *margin* of the separating line. Geometrically, the width of this gap is twice the distance from a point on the line $ax+by+c=0$ to the nearest point on the line $ax+by+c=1$. So, suppose $(x^{(0)}, y^{(0)})$ satisfies $ax^{(0)}+by^{(0)}+c=0$ and let's find $(x^\\ast, y^\\ast)$ solving\n",
    "\n",
    "$$\n",
    "\\min (x^{(0)}-x)^2 + (y^{(0)}-y)^2\\text{ subject to } ax + by +c =1.\n",
    "$$\n",
    "\n",
    "Using Lagrange multipliers, we immediately have that\n",
    "\n",
    "$$\n",
    "2\\begin{pmatrix}\n",
    "x-x^{(0)}\\\\ y-y^{(0)}\n",
    "\\end{pmatrix}=\\lambda \\begin{pmatrix} a\\\\ b\\end{pmatrix}\n",
    "$$\n",
    "\n",
    "for some $\\lambda$. Thus,\n",
    "$$\n",
    "\\begin{pmatrix}\n",
    "x\\\\ y\n",
    "\\end{pmatrix}=\\frac{\\lambda}{2} \\begin{pmatrix} a\\\\ b\\end{pmatrix} + \\begin{pmatrix} x^{(0)}\\\\ y^{(0)}\\end{pmatrix} = \\begin{pmatrix}\n",
    "\\frac{\\lambda}{2} a + x^{(0)}\\\\\n",
    "\\frac{\\lambda}{2} b + y^{(0)}\n",
    "\\end{pmatrix}\n",
    "$$\n",
    "\n",
    "Plugging these values into the contstraint $ax+by+c=1$ gives us\n",
    "\n",
    "$$\n",
    "1=a\\left(\\frac{\\lambda}{2} a + x^{(0)}\\right) + b\\left(\\frac{\\lambda}{2} b + y^{(0)}\\right) + c =\\frac{\\lambda}{2}(a^2+b^2) + ax^{(0)} + by^{(0)}+c = \\frac{\\lambda}{2}(a^2+b^2) + 0=\\frac{\\lambda}{2}(a^2+b^2)\n",
    "$$\n",
    "\n",
    "and hence $\\lambda = \\frac{2}{a^2+b^2}$. Observing that this program is convex and solving the Lagrange conditions is sufficient for optimality, we have that\n",
    "\n",
    "$$\n",
    "\\begin{pmatrix}\n",
    "x^\\ast\\\\\n",
    "y^\\ast\n",
    "\\end{pmatrix} = \\frac{1}{a^2+b^2}\\begin{pmatrix} a\\\\ b\\end{pmatrix} + \\begin{pmatrix} x^{(0)}\\\\ y^{(0)}\\end{pmatrix}\n",
    "$$\n",
    "\n",
    "is the minimizer with minimum value $\\frac{1}{a^2+b^2}$. Twice this number, $\\frac{2}{a^2+b^2}$ gives us the margin.\n",
    "\n",
    "So, we conclude that the first line has a margin of $2/(1^2+0^2)=2$ and the second line has a margin of $2/(1^2+1^2)=1$. "
   ]
  },
  {
   "cell_type": "markdown",
   "metadata": {},
   "source": [
    "## Maximum Margin Separating Lines\n",
    "\n",
    "The width of the margin is something that we can attempt to optimize. In particular, it would be nice to have a separating line which makes this margin as large as possible subject to the constraints that $ax+by+c\\leq -1$ on the data with $-1$ labels and $ax+by+c\\geq 1$ on the data with $+1$ labels. Let's suppose our data is of the form $\\{(x^{(i)}, y^{(i)}, z^{(i)})\\}_{i=1}^N\\subset \\mathbb{R}^2\\times\\{-1,1\\}$ where $z_i=\\pm1$ is the label of the data point $(x^{(i)}, y^{(i)})$.\n",
    "\n",
    "$$\n",
    "\\max_{a,b,c} \\frac{2}{a^2+b^2} \\text{ subject to } 1-z_i(ax^{(i)}+by^{(i)}+c)\\leq 0\\text{ for }i=1,\\ldots, N.\n",
    "$$\n",
    "\n",
    "where we note that $1-z_i(ax^{(i)}+by^{(i)}+c)\\leq 0$ implies\n",
    "\n",
    "$$\n",
    "1-z_i(ax^{(i)}+by^{(i)}+c)=1+ax^{(i)}+by^{(i)}+c\\leq 0\n",
    "$$\n",
    "\n",
    "when $z_i=-1$, and hence the constraint is equivalent to $ax^{(i)}+by^{(i)}+c\\leq-1$ when $z_i=-1$. Similarly, the constraint $1-z_i(ax^{(i)}+by^{(i)}+c)\\leq 0$ is equivalent to $1\\leq ax^{(i)}+by^{(i)}+c$ when $z_i=1$.\n",
    "\n",
    "Observing that $t\\mapsto 1/t$ is an order inverting map on the positive real numbers, we see that this maximization problem is equivalent to the minimization problem\n",
    "\n",
    "$$\n",
    "\\min_{a,b,c} \\frac{1}{2}(a^2+b^2) \\text{ subject to } 1-z_i(ax^{(i)}+by^{(i)}+c)\\leq 0\\text{ for }i=1,\\ldots, N.\n",
    "$$\n",
    "\n",
    "One can verify that the Hessian of the objective function with respect to the variables $a$, $b$, and $c$ is the constant matrix\n",
    "$$\n",
    "\\begin{pmatrix}\n",
    "1 & 0 & 0\\\\\n",
    "0 & 1 & 0\\\\\n",
    "0 & 0 & 0\n",
    "\\end{pmatrix}.\n",
    "$$\n",
    "This is a positive semidefinite matrix, so the objective function is convex, and the inequality constraint functions are all convex as well because they are affine functions of $a$, $b$, and $c$. We are therefore dealing with a convex optimization program."
   ]
  },
  {
   "cell_type": "markdown",
   "metadata": {},
   "source": [
    "## Duality\n",
    "\n",
    "Given a program\n",
    "\n",
    "$$\n",
    "\\min f({\\bf x})\\text{ subject to } g_i({\\bf x})=0, h_j({\\bf x})\\leq 0\\text{ for }i=1,\\ldots, n;j=1,\\ldots, m\n",
    "$$\n",
    "\n",
    "with functions $f, g_i, h_j:\\mathbb{R}^d\\rightarrow\\mathbb{R}$, the **Lagrangian** is the function $\\mathcal{L}:\\mathbb{R}^d\\times\\mathbb{R}^n\\times\\mathbb{R}^m\\rightarrow\\mathbb{R}$ given by\n",
    "\n",
    "$$\n",
    "\\mathcal{L}({\\bf x}, \\lambda, \\mu) = f({\\bf x}) +\\sum_{i=1}^n \\lambda_i g_i({\\bf x}) + \\sum_{j=1}^m \\mu_j h_j({\\bf x}),\n",
    "$$\n",
    "\n",
    "where $\\lambda$ and $\\mu$ are the **dual variables**. The **Lagrange dual function** is \n",
    "\n",
    "$$\n",
    "\\ell(\\lambda,\\mu)=\\min_{{\\bf x}\\in \\mathbb{R}^d} \\mathcal{L}({\\bf x},\\lambda,\\mu).\n",
    "$$\n",
    "\n",
    "When this minimization program is unbounded below, we set $\\ell(\\lambda,\\mu)=-\\infty$. \n",
    "\n",
    "#### Notation: Recall that dual feasibility requires that $\\mu_j\\geq0$ for all $j=1,\\ldots, m$. We will use the notation $0\\preceq \\mu$ to specify that this system of inequalities holds. We also let $p^\\ast$ denote the minimum value of the original (or, **primal**) program.\n",
    "\n",
    "#### Theorem (Weak Duality): If $\\lambda\\in\\mathbb{R}^n$, $\\mu\\in\\mathbb{R}^m$, and $0\\preceq \\mu$, then $\\ell(\\lambda,\\mu)\\leq p^\\ast$. \n",
    "\n",
    "The proof is simple. Suppose $\\widetilde{\\bf x}$ is feasible so that $g_i({\\bf x})=0$ and $h_j({\\bf x})\\leq 0$ for all $i=1,\\ldots, n$ and $j=1,\\ldots, m$. Then\n",
    "\n",
    "$$\n",
    "\\ell(\\lambda,\\mu)=\\min_{{\\bf x}\\in \\mathbb{R}^d} \\mathcal{L}({\\bf x},\\lambda,\\mu)\\leq \\mathcal{L}(\\widetilde{\\bf x},\\lambda,\\mu)=f(\\widetilde{\\bf x}) +\\sum_{i=1}^n \\lambda_i g_i(\\widetilde{\\bf x}) + \\sum_{j=1}^m \\mu_j h_j(\\widetilde{\\bf x})=f(\\widetilde{\\bf x}) +\\sum_{i=1}^n \\lambda_i\\cdot 0+ \\sum_{j=1}^m \\mu_j h_j(\\widetilde{\\bf x})=f(\\widetilde{\\bf x}) + \\sum_{j=1}^m \\mu_j h_j(\\widetilde{\\bf x})\\leq f(\\widetilde{\\bf x})\n",
    "$$\n",
    "\n",
    "since $\\mu_j\\geq 0$ and $h_j(\\widetilde{\\bf x})\\leq 0$ ($\\widetilde{\\bf x}\\in X$) implies $\\mu_j h_j(\\widetilde{\\bf x})\\leq 0$ for all $j=1,\\ldots, m$. Now, $\\ell(\\lambda, \\mu)\\leq f(\\widetilde{\\bf x})$ for all feasible $\\widetilde{\\bf x}$, so we must conclude that $\\ell(\\lambda,\\mu)\\leq p^\\ast$.\n",
    "\n",
    "### The Lagrange Dual Problem\n",
    "\n",
    "The **Lagrange dual problem** to an optimization program is\n",
    "\n",
    "$$\n",
    "\\max \\ell(\\lambda,\\mu)\\text{ subject to } 0\\preceq \\mu.\n",
    "$$\n",
    "\n",
    "The optimal value of this program will be denoted $d^\\ast$. Another way to state weak duality is that $d^\\ast\\leq p^\\ast$. We will refer to the quantity $p^\\ast-d^\\ast$ as the **duality gap**. If $d^\\ast=p^\\ast$ (equivalent to the duality gap being $0$), then we will say that **strong duality** holds. The following fact is useful because it is sometimes easier to solve the dual program.\n",
    "\n",
    "It turns out that $\\ell(\\lambda, \\mu)$ is always a **concave** function, even if the primal program was not convex. Thus, $-\\ell(\\lambda,\\mu)$ is always a convex function, and \n",
    "\n",
    "$$\n",
    "\\min -\\ell(\\lambda,\\mu)\\text{ subject to } 0\\preceq \\mu.\n",
    "$$\n",
    "\n",
    "is always a convex program.\n",
    "\n",
    "\n",
    "#### Theorem: Suppose $({\\bf x}^\\ast,\\mu^\\ast,\\lambda^\\ast)$ are such that $(\\mu^\\ast,\\lambda^\\ast)$ are a solution to the dual program and ${\\bf x}^\\ast$ is a solution to $\\min_{\\bf x} \\mathcal{L}({\\bf x},\\mu^\\ast,\\lambda^\\ast)$. Then (1) strong duality holds, (2) ${\\bf x}^\\ast$ is a solution to the primal problem, and (3) if all functions are also differentiable, $({\\bf x}^\\ast,\\mu^\\ast,\\lambda^\\ast)$ satisfy the KKT conditions.\n",
    "\n",
    "The power of this theorem is that, if the dual problem can be solved, then one immediately obtains a solution to the primal problem, and this is true for **any** optimization program (so in principle the primal problem need not be convex). On the other hand, this tell us that failure of strong duality means that we cannot hope to find a solution to the dual problem. \n",
    "\n",
    "#### Proof:\n",
    "\n",
    "We first show that $({\\bf x}^\\ast,\\mu^\\ast,\\lambda^\\ast)$ will always satisfy the primal feasibility, dual feasibility, and complementary slackness from the KKT conditions even if the functions are not necessarily differentiable.\n",
    "\n",
    "1. **Primal Feasibility Holds**: If any $g_i({\\bf x}^\\ast)\\not=0$, we could choose a $\\widetilde{\\lambda}_i$ so that $\\lambda_i^\\ast g_i({\\bf x}^\\ast)< \\widetilde{\\lambda}_i g_i({\\bf x}^\\ast)$ without changing any of the other $\\lambda_i^\\ast$'s or $\\mu_j^\\ast$'s. Thus, we would contradict optimality of $(\\lambda^\\ast,\\mu^\\ast)$. On the other hand, if any $h_j({\\bf x}^\\ast)>0$, we could pick $\\widetilde{\\mu}_j$ so that $\\mu_j^\\ast h_j({\\bf x}^\\ast)<\\widetilde{\\mu}_j h_j({\\bf x}^\\ast)$ without changing the other $\\lambda_i$'s or $\\mu_j$'s. This would also contradict optimality of $(\\lambda^\\ast,\\mu^\\ast)$.\n",
    "2. **Dual Feasibility Holds**: This holds by definition since $0\\preceq \\mu$ in the dual program.\n",
    "3. **Complementary Slackness Holds**: Suppose that $\\mu_j^\\ast h_j({\\bf x}^\\ast)\\not=0$ for some $j$. Because we have verified primal feasibility and dual feasibility, it must be the case that $\\mu_j^\\ast h_j({\\bf x^\\ast})\\leq 0$, so our assumption implies that $\\mu_j^\\ast h_j({\\bf x}^\\ast)<0$ and $h_j({\\bf x}^\\ast)<0$. But then setting $\\widetilde{\\mu}_j=0$ gives $\\mu_j^\\ast h_j({\\bf x}^\\ast)<\\widetilde{\\mu}_j h_j({\\bf x}^\\ast)=0$, contradicting optimality of $\\mu^\\ast$.\n",
    "\n",
    "Because of primal feasibility and complementary slackness, we have that $\\lambda_i^\\ast g_i({\\bf x}^\\ast)=0$ for all $i=1,\\ldots, n$, and $\\mu_j^\\ast h_j({\\bf x}^\\ast)=0$ for all $j=1,\\ldots, m$. Consequently,\n",
    "\n",
    "$$\n",
    "d^\\ast = \\min_{\\lambda, 0\\preceq\\mu} \\ell(\\lambda,\\mu)=\\mathcal{L}({\\bf x}^\\ast,\\lambda^\\ast,\\mu^\\ast)=f({\\bf x}^\\ast)+\\sum_{i=1}^n \\lambda_i g_i({\\bf x}^\\ast) + \\sum_{j=1}^m \\mu_jh_j({\\bf x}^\\ast)=f({\\bf x}^\\ast).\n",
    "$$\n",
    "\n",
    "This implies that $p^\\ast\\leq f({\\bf x}^\\ast)=d^\\ast$, and therefore weak duality implies $d^\\ast=p^\\ast$. Thus, strong duality holds, and since ${\\bf x}^\\ast$ is primal feasible and $f({\\bf x}^\\ast)=p^\\ast$, we conclude that ${\\bf x}^\\ast$ solves the primal problem.\n",
    "\n",
    "Finally, assuming differentiability of $f$, $g_i$'s, and $h_j$'s, the necessary conditions for optimality immediately imply that\n",
    "\n",
    "$$\n",
    "\\nabla_{\\bf x} \\mathcal{L}({\\bf x}^\\ast,\\lambda^\\ast,\\mu^\\ast) = \\nabla f({\\bf x}^\\ast)+\\sum_{i=1}^n\\lambda_i^\\ast \\nabla g_i({\\bf x}^\\ast)+\\sum_{j=1}^m\\mu_i^\\ast \\nabla h_j({\\bf x}^\\ast)={\\bf 0}.\n",
    "$$\n",
    "\n",
    "That is, **Stationarity holds**, and we see that all of the KKT conditions hold for $({\\bf x}^\\ast, \\lambda^\\ast,\\mu^\\ast)$. This completes the proof. $\\blacksquare$"
   ]
  },
  {
   "cell_type": "markdown",
   "metadata": {},
   "source": [
    "## Duality and Convexity\n",
    "\n",
    "While the above theorem offers a sufficient condition, the following theory tells us that these conditions are also necessary when we have a sufficiently nice convex program.\n",
    "\n",
    "#### Theorem: If the primal program is a continuously differentiable convex program that satisfies Slater's condition, then strong duality holds and the KKT conditions are necessary and sufficient for optimality.\n"
   ]
  },
  {
   "cell_type": "markdown",
   "metadata": {},
   "source": [
    "## Duality and SVMs\n",
    "\n",
    "A dataset $\\{({\\bf x}^{(i)}, y^{(i)}\\}_{i=1}^N\\subset\\mathbb{R}^2\\times\\{-1,1\\}$ is called **linearly separable** if there is an $\\alpha\\in\\mathbb{R}^2$ and $\\alpha_0\\in\\mathbb{R}$ such that\n",
    "\n",
    "$$\n",
    "1 - y^{(i)}\\left(\\alpha^T {\\bf x}^{(i)}+\\alpha_0\\right)< 0\\text{ for all }i=1,\\ldots, N.\n",
    "$$\n",
    "\n",
    "Geometrically, this means that there is a line separating the data with labels $-1$ and the data with labels $+1$, and none of the data lies along this line. \n",
    "\n",
    "#### Theorem: The maximum margin problem is strictly feasible (i.e. Slater's condition holds) if and only if the labelled data is separable.\n",
    "\n",
    "So, if our data is linearly separable, the duality theory tells us we can instead attempt to solve the dual problem to margin maximization.\n",
    "\n",
    "Using the substitutions $\\alpha_1=a,\\alpha_2=b, \\alpha_0=c$, and using data of the for $\\{({\\bf x}^{(i)}, y^{(i)}\\}_{i=1}^N\\subset\\mathbb{R}^2\\times\\{-1,1\\}$, the training program for the separating line becomes\n",
    "\n",
    "$$\n",
    "\\min \\frac{1}{2}\\Vert\\alpha\\Vert^2\\text{ subject to } 1-y^{(i)}(\\alpha^T {\\bf x}^{(i)} +\\alpha_0)\\leq 0\n",
    "$$\n",
    "\n",
    "The Lagrangian for this program is\n",
    "\n",
    "$$\n",
    "\\mathcal{L}(\\alpha,\\alpha_0,\\mu)= \\frac{1}{2}\\Vert\\alpha\\Vert^2 + \\sum_{i=1}^N\\mu_i\\left(1-y^{(i)}(\\alpha^T {\\bf x}^{(i)} +\\alpha_0)\\right).\n",
    "$$\n",
    "\n",
    "To compute $\\ell(\\mu)$, the necessary conditions for optimality of $\\mathcal{L}(\\alpha_0,\\alpha,\\mu)$ when $0\\preceq\\mu$ is fixed are seen to be\n",
    "\n",
    "$$\n",
    "{\\bf 0} = \\nabla_\\alpha \\mathcal{L}(\\alpha_0,\\alpha,\\mu)=\\alpha - \\sum_{i=1}^N \\mu_i y^{(i)}{\\bf x}^{(i)}\\:\\left(\\text{ or } \\alpha=\\sum_{i=1}^N \\mu_i y^{(i)}{\\bf x}^{(i)}\\right),\n",
    "$$\n",
    "\n",
    "and\n",
    "\n",
    "$$\n",
    "0 = \\frac{\\partial\\mathcal{L}}{\\partial\\alpha_0}(\\alpha_0,\\alpha,\\mu)=-\\sum_{i=1}^N\\mu_i y^{(i)}\\:\\left(\\text{ or }\\sum_{i=1}^N\\mu_i y^{(i)}=0\\right).\n",
    "$$\n",
    "\n",
    "Substituting in these expressions to $\\mathcal{L}$, we have that\n",
    "\n",
    "$$\n",
    "\\ell(\\mu) = \\frac{1}{2}\\left\\Vert\\sum_{i=1}^N \\mu_i y^{(i)}{\\bf x}^{(i)}\\right\\Vert^2 + \\sum_{i=1}^N\\mu_i - \\left(\\sum_{i=1}^N \\mu_i y^{(i)}{\\bf x}^{(i)}\\right)^T\\left(\\sum_{i=1}^N \\mu_iy^{(i)}{\\bf x}^{(i)}\\right)-\\alpha_0\\sum_{i=1}^N\\mu_iy^{(i)} = -\\frac{1}{2}\\left\\Vert\\sum_{i=1}^N \\mu_i y^{(i)}{\\bf x}^{(i)}\\right\\Vert^2 + \\sum_{i=1}^N\\mu_i.\n",
    "$$\n",
    "\n",
    "Setting $C\\in M_{N, N}$ to be $C=\\left(y^{(i)}y^{(j)}\\left({\\bf x}^{(i)}\\right)^T{\\bf x}^{(j)}\\right)$, we see that the dual program is\n",
    "\n",
    "$$\n",
    "\\max -\\frac{1}{2}\\mu^T C\\mu +{\\bf 1}^T\\mu\\text{ subject to }{\\bf y}^T\\mu=0,\\: 0\\preceq\\mu,\n",
    "$$\n",
    "\n",
    "which is equivalent to the convex program\n",
    "\n",
    "$$\n",
    "\\min \\frac{1}{2}\\mu^T C\\mu -{\\bf 1}^T\\mu\\text{ subject to }{\\bf y}^T\\mu=0,\\: 0\\preceq\\mu,\n",
    "$$\n"
   ]
  },
  {
   "cell_type": "markdown",
   "metadata": {},
   "source": [
    "## The Kernel Trick\n",
    "\n",
    "The form of the dual problem suggests that we can replace the $C$ matrix with $\\left(y^{(i)}y^{(j)} K({\\bf x}^{(i)},{\\bf x}^{(j)})\\right)$ where $K:\\mathbb{R}^d\\times\\mathbb{R}^d\\rightarrow\\mathbb{R}$ has the form\n",
    "\n",
    "$$\n",
    "K({\\bf a}, {\\bf b}) = \\sum \\varphi_k({\\bf a})\\varphi_k({\\bf b})\n",
    "$$\n",
    "\n",
    "for some $\\varphi_k:\\mathbb{R}^d\\rightarrow\\mathbb{R}$. The reason this works is because $K$ computes an inner product between the points\n",
    "\n",
    "$$\n",
    "\\varphi({\\bf a}) = \\begin{pmatrix}\\varphi_1({\\bf a})\\\\ \\varphi_2({\\bf a})\\\\ \\varphi_3({\\bf a})\\\\\\vdots\\end{pmatrix}\\text{ and }\\varphi({\\bf b}) = \\begin{pmatrix}\\varphi_1({\\bf b})\\\\ \\varphi_2({\\bf b})\\\\ \\varphi_3({\\bf b})\\\\\\vdots\\end{pmatrix}.\n",
    "$$\n",
    "\n",
    "For example, if $\\sigma>0$, the **Gaussian Kernel**\n",
    "\n",
    "$$\n",
    "K_{\\text{exp},\\sigma}({\\bf a}, {\\bf b}) = e^{-\\Vert {\\bf a}-{\\bf b}\\Vert^2/\\sigma}\n",
    "$$\n",
    "\n",
    "can be shown to have this form using **Mercer's Theorem**. In this formulation, if $\\mu^\\ast$ solves the dual problem with $C = \\left(y^{(i)}y^{(j)} K({\\bf x}^{(i)},{\\bf x}^{(j)})\\right)$, then the decision boundary evaluation\n",
    "\n",
    "$$\n",
    "\\left(\\alpha^\\ast\\right)^T{\\bf x} = \\sum_{i=1}^N\\mu_i^\\ast y^{(i)}\\left({\\bf x}^{(i)}\\right)^T{\\bf x}\n",
    "$$\n",
    "\n",
    "from the usual SVM instead becomes\n",
    "\n",
    "$$\n",
    "\\sum_{i=1}^N\\mu_i^\\ast y^{(i)} K\\left({\\bf x}, {\\bf x}^{(i)}\\right)\n",
    "$$\n",
    "\n",
    "\n",
    "\n"
   ]
  },
  {
   "cell_type": "markdown",
   "metadata": {},
   "source": [
    "## Group Problems\n",
    "\n",
    "1. Compare and contrast SVM versus Logistic Regression.\n",
    "2. Suppose you have four classes that you want to separate by training several SVMs. What are two possible ways to do this?\n",
    "3. Write down a Phase I method for the primal maximum margin problem.\n",
    "4. For the primal problem, write out the search directions for the primal-dual algorithm.\n",
    "5. Suppose $\\mu^\\ast$ solves the dual problem for the SVM. How do you recover $\\alpha^\\ast$ and $\\alpha_0^\\ast$ for the separating line?\n",
    "6. Suppose $\\mu^\\ast$ solves the dual problem for the SVM, and $\\mu_i^\\ast=1$ for some $i$. What does this imply about ${\\bf x}^{(i)}$?\n",
    "7. For the dual problem, write out the search directions for the primal-dual algorithm.\n",
    "8. Show that, for $K:\\mathbb{R}^2\\times\\mathbb{R}^2\\rightarrow\\mathbb{R}$ defined by $K({\\bf x},{\\bf y}) = ({\\bf x}^T{\\bf y}+1)^2$, $K$ satisfies $K(x,y)=\\sum_{k=1}^6\\varphi_k({\\bf x})\\varphi_k({\\bf y})$ where $\\varphi({\\bf x}) = \\begin{pmatrix} x_1^2\\\\ \\sqrt{2}x_1x_2\\\\ x_2^2\\\\\\sqrt{2}x_1\\\\\\sqrt{2}x_2\\\\1\\end{pmatrix}$"
   ]
  }
 ],
 "metadata": {
  "anaconda-cloud": {},
  "kernelspec": {
   "display_name": "Python [default]",
   "language": "python",
   "name": "python3"
  },
  "language_info": {
   "codemirror_mode": {
    "name": "ipython",
    "version": 3
   },
   "file_extension": ".py",
   "mimetype": "text/x-python",
   "name": "python",
   "nbconvert_exporter": "python",
   "pygments_lexer": "ipython3",
   "version": "3.5.3"
  }
 },
 "nbformat": 4,
 "nbformat_minor": 1
}
