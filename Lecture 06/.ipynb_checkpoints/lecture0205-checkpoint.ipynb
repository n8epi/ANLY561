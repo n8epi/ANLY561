{
 "cells": [
  {
   "cell_type": "code",
   "execution_count": 1,
   "metadata": {
    "collapsed": true
   },
   "outputs": [],
   "source": [
    "'''\n",
    "This code imports numpy packages and allows us to pass data from python to global javascript\n",
    "objects. It was developed by znah@github\n",
    "'''\n",
    "\n",
    "import json\n",
    "import numpy as np\n",
    "import numpy.random as rd\n",
    "import matplotlib.pyplot as plt\n",
    "\n",
    "from ipywidgets import widgets\n",
    "from IPython.display import HTML, Javascript, display\n",
    "\n",
    "def json_numpy_serializer(o):\n",
    "    if isinstance(o, np.ndarray):\n",
    "        return o.tolist()\n",
    "    raise TypeError(\"{} of type {} is not JSON serializable\".format(repr(o), type(o)))\n",
    "\n",
    "def jsglobal(**params):\n",
    "    code = [];\n",
    "    for name, value in params.items():\n",
    "        jsdata = json.dumps(value, default=json_numpy_serializer)\n",
    "        code.append(\"window.{}={};\".format(name, jsdata))\n",
    "    display(Javascript(\"\\n\".join(code)))"
   ]
  },
  {
   "cell_type": "code",
   "execution_count": 2,
   "metadata": {},
   "outputs": [
    {
     "data": {
      "application/javascript": [
       "\n",
       "// Loading the compiled MathBox bundle.\n",
       "require.config({\n",
       "    //baseUrl:'', paths: { mathBox: '../../tree/static/mathbox/build/mathbox-bundle', graphing: '../../tree/static/graphing/graphing'}\n",
       "    // online compilation\n",
       "    baseUrl: '', paths: {mathBox: '../static/mathbox/build/mathbox-bundle', graphing: '../static/graphing/graphing'}\n",
       "    // online compilation without local library-- remove baseUrl\n",
       "    //paths: {mathBox: '//cdn.rawgit.com/unconed/mathbox/eaeb8e15/build/mathbox-bundle'}\n",
       "});\n",
       "\n",
       "// Require commands for 3d plotting\n",
       "require(['graphing'])"
      ],
      "text/plain": [
       "<IPython.core.display.Javascript object>"
      ]
     },
     "metadata": {},
     "output_type": "display_data"
    }
   ],
   "source": [
    "%%javascript\n",
    "\n",
    "// Loading the compiled MathBox bundle.\n",
    "require.config({\n",
    "    //baseUrl:'', paths: {mathBox: '../../tree/static/mathbox/build/mathbox-bundle'}\n",
    "    // online compilation\n",
    "    baseUrl: '', paths: {mathBox: '../static/mathbox/build/mathbox-bundle'}\n",
    "    // online compilation without local library-- remove baseUrl\n",
    "    //paths: {mathBox: '//cdn.rawgit.com/unconed/mathbox/eaeb8e15/build/mathbox-bundle'}\n",
    "});\n",
    "\n",
    "// Minified graphing functions\n",
    "\n",
    "window.with_mathbox=function(element,func){require(['mathBox'],function(){var mathbox=mathBox({plugins:['core','controls','cursor','mathbox'],controls:{klass:THREE.OrbitControls},mathbox:{inspect:!1},element:element[0],loop:{start:!1},});var three=mathbox.three;three.renderer.setClearColor(new THREE.Color(0xFFFFFF),1.0);three.camera.position.set(-1,1,2);three.controls.noKeys=!0;three.element.style.height=\"400px\";three.element.style.width=\"100%\";function isInViewport(element){var rect=element.getBoundingClientRect();var html=document.documentElement;var w=window.innerWidth||html.clientWidth;var h=window.innerHeight||html.clientHeight;return rect.top<h&&rect.left<w&&rect.bottom>0&&rect.right>0}\n",
    "var intervalId=setInterval(function(){if(three.element.offsetParent===null){clearInterval(intervalId);three.destroy();return}\n",
    "var visible=isInViewport(three.canvas);if(three.Loop.running!=visible){visible?three.Loop.start():three.Loop.stop()}},100);func(mathbox);window.dispatchEvent(new Event('resize'))})};window.plotGraph=function(mathbox,f,xlabel='x',ylabel='y',zlabel='f(x,y)',rng=[[-3,3],[-5,5],[-3,3]]){var view=mathbox.cartesian({range:rng,scale:[1,1,1]},{rotation:(t)=>[0,t*0.02,0]}).grid({axes:[1,3]})\n",
    "view.area({id:'yaxis',width:1,height:1,axes:[1,3],expr:function(emit,x,y,i,j){emit(4,0,0);emit(0,0,0)},items:2,channels:3,}).text({font:'Helvetica',style:'bold',width:16,height:5,depth:2,expr:function(emit,i,j,k,time){emit(ylabel)},}).label({color:'#000000',snap:!1,outline:2,size:24,offset:[0,-32],depth:.5,zIndex:1});view.vector({points:'#yaxis',color:0x000000,width:9,start:!0});view.area({id:'xaxis',width:1,height:1,axes:[1,3],expr:function(emit,x,y,i,j){emit(0,0,4);emit(0,0,0)},items:2,channels:3,}).text({font:'Helvetica',style:'bold',width:16,height:5,depth:2,expr:function(emit,i,j,k,time){emit(xlabel)},}).label({color:'#000000',snap:!1,outline:2,size:24,offset:[0,-32],depth:.5,zIndex:1,});view.vector({points:'#xaxis',color:0x000000,width:9,start:!0,});view.area({id:'zaxis',width:1,height:1,axes:[1,3],expr:function(emit,x,y,i,j){emit(0,4,0);emit(0,0,0)},items:2,channels:3,}).text({font:'Helvetica',style:'bold',width:16,height:5,depth:2,expr:function(emit,i,j,k,time){emit(zlabel)},}).label({color:'#000000',snap:!1,outline:2,size:24,offset:[0,-32],depth:.5,zIndex:1,});view.vector({points:'#zaxis',color:0x000000,width:9,start:!0,});var graph=view.area({id:'graph',width:64,height:64,axes:[1,3],expr:function(emit,y,x,i,j){emit(y,f(x,y),x)},items:1,channels:3,});view.surface({shaded:!0,lineX:!0,lineY:!0,points:graph,color:0x0000FF,width:1,});return view};window.addSegment=function(view,p0,p1,col){view.array({width:128,expr:function(emit,i,time){var b=i/128;var a=1-b;emit(a*p0[1]+b*p1[1],a*p0[2]+b*p1[2],a*p0[0]+b*p1[0])},channels:3,});view.line({color:col,width:10,size:2.5,stroke:'dotted',start:!1,end:!1,})};window.addPoint=function(view,p,col,label){view.array({width:4,items:2,channels:3,expr:function(emit,i,t){emit(p[1],p[2],p[0])},}).point({color:col,points:'<',size:15,depth:.5,zBias:50,}).text({font:'Helvetica',style:'bold',width:16,height:5,depth:2,expr:function(emit,i,j,k,time){emit(label)},}).label({color:col,snap:!1,outline:2,size:24,offset:[0,-32],depth:.5,zIndex:1,})};window.addCurve=function(view,ab,x,y,z,col){view.array({width:128,expr:function(emit,i,time){var t=(ab[1]-ab[0])*(i/128)+ab[0];emit(y(t),z(t),x(t))},channels:3,});view.line({color:col,width:20,size:2.5,start:!0,end:!0,})};window.addClosedCurve=function(view,ab,x,y,z,col){view.array({width:128,expr:function(emit,i,time){var t=(ab[1]-ab[0])*(i/128)+ab[0];emit(y(t),z(t),x(t))},channels:3,});view.line({color:col,width:20,size:2.5,start:!1,end:!1,})};window.addSurface=function(view,ab,cd,x,y,z,col,opa){view.matrix({width:64,height:64,expr:function(emit,i,j,time){var p=(ab[1]-ab[0])*(i/64)+ab[0];var q=(cd[1]-cd[0])*(j/64)+cd[0];emit(y(p,q),z(p,q),x(p,q))},items:1,channels:3}).surface({shaded:!0,lineX:!1,lineY:!1,color:col,width:1,opacity:opa})}\n",
    "window.addSequence=function(view,seq,col){var idx=0;var d=new Date();var start=d.getTime();view.array({width:1,expr:function(emit,i,time){var nd=new Date();var now=nd.getTime();if(1000<now-start){idx=idx+1;if(seq.length<=idx){idx=0}\n",
    "start=now}\n",
    "emit(seq[idx][1],seq[idx][2],seq[idx][0])},items:1,channels:3}).point({color:col,points:'<',size:15,depth:.5,zBias:50,})}"
   ]
  },
  {
   "cell_type": "markdown",
   "metadata": {
    "collapsed": true
   },
   "source": [
    "# Part IX: Stochastic Gradient Descent\n",
    "\n",
    "We now return to the example of logistic regression, but where we now use two parameters in our model. In particular, we will set\n",
    "\n",
    "$$\n",
    "\\text{prob}(y=1\\vert x;\\beta_0, \\beta_1) = \\text{logit}(\\beta_1 x +\\beta_0)\n",
    "$$\n",
    "and\n",
    "$$\n",
    "\\text{prob}(y=-1\\vert x;\\beta_0, \\beta_1) = \\text{logit}(-\\beta_1 x - \\beta_0)\n",
    "$$\n"
   ]
  },
  {
   "cell_type": "code",
   "execution_count": 3,
   "metadata": {},
   "outputs": [
    {
     "data": {
      "image/png": "[encoded data removed]",
      "text/plain": [
       "<matplotlib.figure.Figure at 0x10f15f9b0>"
      ]
     },
     "metadata": {},
     "output_type": "display_data"
    }
   ],
   "source": [
    "def logit(x):\n",
    "    return 1/(1+np.exp(-x))\n",
    "\n",
    "b0 = 1\n",
    "b1 = 1\n",
    "\n",
    "t = np.linspace(-10, 10)\n",
    "s = b1 * t + b0\n",
    "plt.plot(s, logit(s))\n",
    "plt.title('Logisitic composed with affine')\n",
    "plt.xlabel('x')\n",
    "plt.ylabel('prob(y=1|x;b0=' + str(b0) + ', b1=' + str(b1) + ')')\n",
    "plt.show()"
   ]
  },
  {
   "cell_type": "markdown",
   "metadata": {},
   "source": [
    "Now suppose we are supplied with data $\\{(x^{(i)}, y^{(i)})\\}_{i=1}^N\\subset\\mathbb{R}\\times\\{-1, 1\\}$, where we assume that $x^{(i)}$ are chosen by some arbitrary process and $y^{(i)}$ is drawn from a Bernoulli trial with the above probability of $y^{(i)}=1, -1$. Our goal is to use this data to infer the true values of $\\beta_0$ and $\\beta_1$. Setting\n",
    "\n",
    "$$\n",
    "{\\bf \\beta} = \\begin{pmatrix}\n",
    "\\beta_0\\\\\n",
    "\\beta_1\n",
    "\\end{pmatrix}\\text{ and } {\\bf x} = \\begin{pmatrix}\n",
    "1\\\\\n",
    "x\n",
    "\\end{pmatrix},\n",
    "$$\n",
    "\n",
    "$\\text{logit}(\\beta_1 x + \\beta_0)=\\text{logit}({\\bf \\beta}^T{\\bf x})$. The maximum likelihood principle leads us to consider the maximization of the likelihood\n",
    "\n",
    "$$\n",
    "\\mathcal{L}({\\bf \\beta}) = \\prod_{i=1}^N \\text{logit}(y^{(i)}{\\bf \\beta}^T {\\bf x}^{(i)})\n",
    "$$\n",
    "\n",
    "and we therefore seek the minimize the negative log-likelihood\n",
    "\n",
    "$$\n",
    "\\ell({\\bf \\beta}) = \\frac{1}{N} \\sum_{i=1}^N \\log\\left(1 + e^{-y^{(i)}{\\bf \\beta}^T {\\bf x}^{(i)}}\\right)\n",
    "$$\n",
    "\n",
    "Let's create some data to display this function\n"
   ]
  },
  {
   "cell_type": "code",
   "execution_count": 4,
   "metadata": {},
   "outputs": [
    {
     "data": {
      "image/png": "[encoded data removed]",
      "text/plain": [
       "<matplotlib.figure.Figure at 0x10f3600f0>"
      ]
     },
     "metadata": {},
     "output_type": "display_data"
    },
    {
     "data": {
      "application/javascript": [
       "window.X=[1.5905277526348733, 0.3900270744900936, -1.0070735452999469, 0.3151162595903324, -0.7658977236708049, 0.6261064417953373, -0.11436913483170433, -0.3954705254945764, 1.9166072427561174, 0.7237762502887318, 0.20811684023104943, -0.35208757861729534, -2.5624994284593146, 1.1297839363040751, 0.650638226952959, -0.5769680737906201, -0.6068353710043844, -0.00952796834219955, -2.6131958377725395, -1.4890724138512141, -0.9850320424047978, -0.5088385516944518, 0.6431392387423089, -0.17177333394138858, -0.9443440553307737, -0.8558554161193265, 0.9349568821092222, -0.16193951623834119, 0.3139856186597548, 0.2748671716643114, -0.7923161503814546, -0.012249599897868469, 0.6430256552770826, 2.1818705475126525, -1.3053580207314428, -0.10131049739496141, -0.12838302024166193, -0.5460825612232406, 0.6805755783214794, 0.2222764491169528, -0.4854532092133464, 0.390708968560426, 0.2766731918252158, 1.2759544099473599, 0.0969265854411321, -1.1421914829856394, 1.193368827887564, 0.15497681626040657, 0.6938193121522817, 0.018351273944138782, 0.6562239610653714, -0.26314049465237377, -0.47101476926222113, -1.1139264657289882, -0.5918186686339448, 1.2962957747973902, 1.1507186605389852, -0.7956138804302284, -0.44115542183700873, -1.0118368543739253, 0.2341880601054893, 1.5017604573985674, -0.5154883957035121, -2.4979395788595227, 1.198233386521243, -1.0200540029485377, 0.22909335671814018, -0.4601294191674894, 0.18632510675130712, -0.7656412964364825, -1.067813254264375, 1.0750110053616622, 0.019800624067497285, -0.0051279747256768775, -0.8118976637756115, 0.18326626792909417, -0.4366707308718201, 0.7763592883590921, 0.6263855733662449, 1.859571578394499, -0.16127499426529454, -0.7602852990031411, 0.5358090883384312, -1.3471883328713898, -0.6432812756336178, -1.1127283328287536, -0.6259628516048027, 0.46804302255107594, -0.2667221467929025, -0.024829234766803435, 0.12500949102280035, 0.6990606104422076, -1.0632845159973114, 0.20744606515577968, -0.4707519704808555, -1.069975995947954, -0.4916578972675689, 2.0570039545623113, -1.2223302849918656, 1.2657899889046011];"
      ],
      "text/plain": [
       "<IPython.core.display.Javascript object>"
      ]
     },
     "metadata": {},
     "output_type": "display_data"
    },
    {
     "data": {
      "application/javascript": [
       "window.Y=[1.0, 1.0, -1.0, 1.0, -1.0, 1.0, 1.0, 1.0, 1.0, 1.0, 1.0, 1.0, -1.0, 1.0, 1.0, -1.0, 1.0, 1.0, -1.0, -1.0, -1.0, 1.0, 1.0, 1.0, 1.0, -1.0, 1.0, -1.0, 1.0, 1.0, 1.0, 1.0, 1.0, 1.0, -1.0, 1.0, 1.0, 1.0, 1.0, 1.0, 1.0, 1.0, 1.0, 1.0, 1.0, 1.0, 1.0, 1.0, 1.0, 1.0, -1.0, 1.0, 1.0, 1.0, 1.0, 1.0, 1.0, -1.0, 1.0, -1.0, 1.0, 1.0, 1.0, -1.0, 1.0, -1.0, 1.0, -1.0, 1.0, 1.0, -1.0, 1.0, 1.0, 1.0, -1.0, 1.0, 1.0, 1.0, -1.0, 1.0, 1.0, 1.0, 1.0, -1.0, 1.0, 1.0, -1.0, 1.0, 1.0, 1.0, 1.0, 1.0, 1.0, 1.0, 1.0, 1.0, 1.0, 1.0, -1.0, 1.0];"
      ],
      "text/plain": [
       "<IPython.core.display.Javascript object>"
      ]
     },
     "metadata": {},
     "output_type": "display_data"
    },
    {
     "data": {
      "application/javascript": [
       "window.B=[2, 2];"
      ],
      "text/plain": [
       "<IPython.core.display.Javascript object>"
      ]
     },
     "metadata": {},
     "output_type": "display_data"
    }
   ],
   "source": [
    "N = 100\n",
    "beta = np.array([2, 2]) # The true parameters in the model\n",
    "x = rd.randn(N) # Arbitrary x values\n",
    "\n",
    "# y's drawn randomly\n",
    "y = np.zeros(N)\n",
    "for i in range(N):\n",
    "    if rd.binomial(1,logit(beta.T @ [1, x[i]])) == 1:\n",
    "        y[i] = 1\n",
    "    else:\n",
    "        y[i] = -1\n",
    "        \n",
    "plt.scatter(x, y)\n",
    "plt.show()\n",
    "        \n",
    "jsglobal(X=x)\n",
    "jsglobal(Y=y)\n",
    "jsglobal(B=beta)"
   ]
  },
  {
   "cell_type": "code",
   "execution_count": 5,
   "metadata": {},
   "outputs": [
    {
     "data": {
      "application/javascript": [
       "\n",
       "with_mathbox(element, function(mathbox) {\n",
       "    \n",
       "    var fcn = function(b0, b1) {\n",
       "        \n",
       "        var val = 0;\n",
       "        for (var i = 0; i<X.length; i++) {\n",
       "            val = val + Math.log(1 + Math.exp(-Y[i] * (b1 * X[i] + b0)));\n",
       "        } \n",
       "        \n",
       "        return val / X.length;\n",
       "    }\n",
       "    \n",
       "    var view = plotGraph(mathbox, fcn, 'b0', 'b1', 'l(b0,b1)', [[-3, 3], [-1, 3], [-3, 3]]);\n",
       "    \n",
       "    addPoint(view, [B[0], B[1], 0], 0x3090FF, '(2, 2)');\n",
       "    \n",
       "    addPoint(view, [B[0], B[1], fcn(B[0], B[1])], 0xFF9030, 'Objective at True Parameter')\n",
       "     \n",
       "})"
      ],
      "text/plain": [
       "<IPython.core.display.Javascript object>"
      ]
     },
     "metadata": {},
     "output_type": "display_data"
    }
   ],
   "source": [
    "%%javascript\n",
    "\n",
    "with_mathbox(element, function(mathbox) {\n",
    "    \n",
    "    var fcn = function(b0, b1) {\n",
    "        \n",
    "        var val = 0;\n",
    "        for (var i = 0; i<X.length; i++) {\n",
    "            val = val + Math.log(1 + Math.exp(-Y[i] * (b1 * X[i] + b0)));\n",
    "        } \n",
    "        \n",
    "        return val / X.length;\n",
    "    }\n",
    "    \n",
    "    var view = plotGraph(mathbox, fcn, 'b0', 'b1', 'l(b0,b1)', [[-3, 3], [-1, 3], [-3, 3]]);\n",
    "    \n",
    "    addPoint(view, [B[0], B[1], 0], 0x3090FF, '(2, 2)');\n",
    "    \n",
    "    addPoint(view, [B[0], B[1], fcn(B[0], B[1])], 0xFF9030, 'Objective at True Parameter')\n",
    "     \n",
    "})"
   ]
  },
  {
   "cell_type": "markdown",
   "metadata": {},
   "source": [
    "We can generate data and view the objective function determined by that data. We can also illustrate the convergence of stochastic gradient descent."
   ]
  },
  {
   "cell_type": "code",
   "execution_count": 6,
   "metadata": {},
   "outputs": [
    {
     "data": {
      "application/javascript": [
       "window.SGD=[[0.0, 0.0, 0.0], [1.264911064067352, 1.0402283852352086, 0.0], [1.5102471014980685, 1.0297846649683402, 0.0], [1.6792492327868076, 1.0225765914742775, 0.0], [1.725747537710148, 1.1066534430939343, 0.0], [1.7606113620557589, 1.1189454213400536, 0.0], [1.7001620918504905, 1.3458307018852889, 0.0], [1.6992818370557696, 1.3826249558321377, 0.0], [1.6854948151235252, 1.4155162271412178, 0.0], [1.7321979686515387, 1.4054004943140368, 0.0], [1.7254674205736609, 1.5034640609108816, 0.0], [1.7397381387533266, 1.5188272643181695, 0.0], [1.7534682512376447, 1.524497532161879, 0.0], [1.709894340843899, 1.5870524679154547, 0.0], [1.7056686941782317, 1.604223116273422, 0.0], [1.715217640619255, 1.6396039089831507, 0.0], [1.7218616249279137, 1.648263082145979, 0.0], [1.7208788111277018, 1.6779423477490079, 0.0], [1.7399181237293873, 1.6762426376161206, 0.0], [1.7620035904628375, 1.670827333816932, 0.0], [1.7415412408855149, 1.7123365830800386, 0.0], [1.7646030267050352, 1.7023087758003415, 0.0], [1.7625625639148947, 1.7225094766998104, 0.0], [1.7617916258679645, 1.7299691485791946, 0.0], [1.7486194787104137, 1.7447452854259946, 0.0], [1.7644693490743768, 1.7429006263386775, 0.0], [1.772627896259783, 1.7493957492104772, 0.0], [1.7836121113311603, 1.7503203667003202, 0.0], [1.7888170704420343, 1.7507592006173813, 0.0], [1.7848395659205742, 1.7640503036665318, 0.0], [1.7892613570930327, 1.768881096367485, 0.0], [1.7933258825927634, 1.7706535459719581, 0.0], [1.804176787641386, 1.7694141448372274, 0.0], [1.8134431841357685, 1.765129446784177, 0.0], [1.7993231833062284, 1.8129375976640274, 0.0], [1.8025314227471576, 1.8166301301702343, 0.0], [1.7976443722284607, 1.8267121411555745, 0.0], [1.8062715566817131, 1.8219299839115166, 0.0], [1.8181140051430411, 1.8169327349825655, 0.0], [1.8234504791542605, 1.8166971831438425, 0.0], [1.8316774424861815, 1.8166384536731657, 0.0], [1.8373841994319744, 1.8167153085545351, 0.0], [1.8385056801167157, 1.8303485591253725, 0.0], [1.847135260266146, 1.8288018197750635, 0.0], [1.8539452911684342, 1.8238887689186054, 0.0], [1.8438491701724666, 1.8487859109670395, 0.0], [1.840988710159865, 1.8686460316083708, 0.0], [1.837286567121661, 1.8768336270291865, 0.0], [1.8417528481540157, 1.8772610545920838, 0.0], [1.8463747157149915, 1.878418216922873, 0.0], [1.84420295975689, 1.8873743643667416, 0.0], [1.8448651722880594, 1.8899816735499224, 0.0], [1.8430803560929214, 1.8948838198056681, 0.0], [1.8582092494093474, 1.8842311848770896, 0.0], [1.8621069386406681, 1.8849454300008626, 0.0], [1.8621158371098638, 1.8981799637415797, 0.0], [1.8563896045968735, 1.9152702576648026, 0.0], [1.8595017331480375, 1.9150163679061016, 0.0], [1.8577663633825883, 1.9200380623946012, 0.0], [1.8590235541246671, 1.9249048378178963, 0.0], [1.8608967756637984, 1.9256668590239, 0.0], [1.8593898388098022, 1.937417258396138, 0.0], [1.8601677274199635, 1.9457934352009556, 0.0], [1.8665315015188417, 1.9440678272790097, 0.0], [1.868770722454207, 1.9437747880023681, 0.0], [1.8727337070885126, 1.9438855749097788, 0.0], [1.8759655271828872, 1.9438008079907496, 0.0], [1.8757923736625584, 1.9471320771737681, 0.0], [1.8774280341835625, 1.9488065445259954, 0.0], [1.8745062909062458, 1.96043402476822, 0.0], [1.8719579037056506, 1.964922060876235, 0.0], [1.8758822653304523, 1.964462696283962, 0.0], [1.8793234752293595, 1.9643857343329856, 0.0], [1.8735472448875299, 1.9780872639449112, 0.0], [1.870044926917934, 1.9832240530436132, 0.0], [1.8657437414687859, 1.9916607128168011, 0.0], [1.8639088119112297, 1.9942674329400056, 0.0], [1.8616482089980317, 1.998506783953342, 0.0], [1.8655592029349772, 1.9987993739486243, 0.0], [1.8590122979300452, 2.008212979847327, 0.0], [1.8645817139463952, 2.011970119293859, 0.0], [1.8686196842843115, 2.011134534795862, 0.0], [1.8688850036368407, 2.0116017641503516, 0.0], [1.866869557817067, 2.0148434619540825, 0.0], [1.8701083733032986, 2.0133872383948663, 0.0], [1.8682290538199458, 2.018096610685147, 0.0], [1.8712655926258686, 2.0190830779776032, 0.0], [1.8755996895202558, 2.016653032521021, 0.0], [1.873485346439077, 2.0202477530329928, 0.0], [1.8770424514147384, 2.024740381030511, 0.0], [1.8773767372253847, 2.032564884545518, 0.0], [1.8806852283436972, 2.030794220341234, 0.0], [1.8849187499754239, 2.029831745872113, 0.0], [1.8837488507132143, 2.032683170411607, 0.0], [1.8773621033184928, 2.0426524552160363, 0.0], [1.8742716460616045, 2.0489015710125313, 0.0], [1.8753521604203354, 2.0507044263646588, 0.0], [1.875755685571722, 2.0568937803990774, 0.0], [1.874274745732609, 2.0622233788783957, 0.0], [1.8756562577103675, 2.063538197275621, 0.0]];"
      ],
      "text/plain": [
       "<IPython.core.display.Javascript object>"
      ]
     },
     "metadata": {},
     "output_type": "display_data"
    }
   ],
   "source": [
    "X_data = np.vstack([np.ones(N), x])\n",
    "y_data = y\n",
    "\n",
    "M = 10 # Number of indices to randomly select for each step\n",
    "\n",
    "def dNLL(beta, X, y):\n",
    "    return -X @ (y * logit(-beta.T @ X)) / M\n",
    "\n",
    "iterations = 100\n",
    "\n",
    "betas_sgd = np.zeros((iterations, 3))\n",
    "\n",
    "for i in range(1,iterations):\n",
    "    idxs = rd.choice(N, M, replace=False)\n",
    "    betas_sgd[i,:2] = betas_sgd[i-1,:2] - np.sqrt(M)*dNLL(betas_sgd[i-1,:2].T, X_data[:,idxs], y_data[idxs])/i\n",
    "\n",
    "jsglobal(SGD=betas_sgd)"
   ]
  },
  {
   "cell_type": "code",
   "execution_count": 7,
   "metadata": {},
   "outputs": [
    {
     "data": {
      "application/javascript": [
       "\n",
       "with_mathbox(element, function(mathbox) {\n",
       "    \n",
       "    var fcn = function(b0, b1) {\n",
       "        \n",
       "        var val = 0;\n",
       "        for (var i = 0; i<X.length; i++) {\n",
       "            val = val + Math.log(1 + Math.exp(-Y[i] * (b1 * X[i] + b0)));\n",
       "        } \n",
       "        \n",
       "        return val / X.length;\n",
       "    }\n",
       "    \n",
       "    var view = plotGraph(mathbox, fcn, 'b0', 'b1', 'l(b0,b1)', [[-3, 3], [-1, 3], [-3, 3]]);\n",
       "    \n",
       "    addPoint(view, [B[0], B[1], 0], 0x3090FF, '(2, 2)');\n",
       "    \n",
       "    addPoint(view, [B[0], B[1], fcn(B[0], B[1])], 0xFF9030, 'Objective at True Parameter');\n",
       "    \n",
       "    addSequence(view, SGD, 0xFF0000);\n",
       "     \n",
       "})"
      ],
      "text/plain": [
       "<IPython.core.display.Javascript object>"
      ]
     },
     "metadata": {},
     "output_type": "display_data"
    }
   ],
   "source": [
    "%%javascript\n",
    "\n",
    "with_mathbox(element, function(mathbox) {\n",
    "    \n",
    "    var fcn = function(b0, b1) {\n",
    "        \n",
    "        var val = 0;\n",
    "        for (var i = 0; i<X.length; i++) {\n",
    "            val = val + Math.log(1 + Math.exp(-Y[i] * (b1 * X[i] + b0)));\n",
    "        } \n",
    "        \n",
    "        return val / X.length;\n",
    "    }\n",
    "    \n",
    "    var view = plotGraph(mathbox, fcn, 'b0', 'b1', 'l(b0,b1)', [[-3, 3], [-1, 3], [-3, 3]]);\n",
    "    \n",
    "    addPoint(view, [B[0], B[1], 0], 0x3090FF, '(2, 2)');\n",
    "    \n",
    "    addPoint(view, [B[0], B[1], fcn(B[0], B[1])], 0xFF9030, 'Objective at True Parameter');\n",
    "    \n",
    "    addSequence(view, SGD, 0xFF0000);\n",
    "     \n",
    "})"
   ]
  },
  {
   "cell_type": "markdown",
   "metadata": {},
   "source": []
  }
 ],
 "metadata": {
  "anaconda-cloud": {},
  "kernelspec": {
   "display_name": "Python [default]",
   "language": "python",
   "name": "python3"
  },
  "language_info": {
   "codemirror_mode": {
    "name": "ipython",
    "version": 3
   },
   "file_extension": ".py",
   "mimetype": "text/x-python",
   "name": "python",
   "nbconvert_exporter": "python",
   "pygments_lexer": "ipython3",
   "version": "3.5.3"
  }
 },
 "nbformat": 4,
 "nbformat_minor": 1
}
